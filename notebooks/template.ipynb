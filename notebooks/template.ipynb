{
 "cells": [
  {
   "cell_type": "markdown",
   "metadata": {},
   "source": [
    "# Thema / Vorlage."
   ]
  },
  {
   "cell_type": "code",
   "execution_count": 15,
   "metadata": {},
   "outputs": [],
   "source": [
    "# Benoetigte Bibliotheken importieren."
   ]
  },
  {
   "cell_type": "markdown",
   "metadata": {},
   "source": [
    "## Allgemeine Informationen.\n",
    "### Einordnung des Algorithmus.\n",
    "...\n",
    "### Ziel des Algorithmus.\n",
    "...\n",
    "### Praxisbeispiele.\n",
    "..."
   ]
  },
  {
   "cell_type": "markdown",
   "metadata": {},
   "source": [
    "## Funktionsweise des Algorithmus und Implementierung ohne Nutzung von Bibliotheken."
   ]
  },
  {
   "cell_type": "code",
   "execution_count": null,
   "metadata": {},
   "outputs": [],
   "source": [
    "# Funktionsweise des Algorithmus anhand eigener Implementierung erlaeutern.\n",
    "# (z.B. k-means unter Nutzung von Schleifen)\n",
    "# ..."
   ]
  },
  {
   "cell_type": "markdown",
   "metadata": {},
   "source": [
    "## Implementierung unter Nutzung von Bibliotheken.\n",
    "(z.B. [scikit-learn](https://scikit-learn.org/stable/index.html))"
   ]
  },
  {
   "cell_type": "code",
   "execution_count": 16,
   "metadata": {},
   "outputs": [],
   "source": [
    "# Welche Bibliotheken bieten den Algorithmus an? Wie ist er anzuwenden?"
   ]
  },
  {
   "cell_type": "markdown",
   "metadata": {},
   "source": [
    "## Vor- und Nachteile des Algorithmus.\n",
    "..."
   ]
  },
  {
   "cell_type": "markdown",
   "metadata": {},
   "source": [
    "## Weiterführende Literatur.\n",
    "(z.B. Videos einbetten, Literatur verlinken, ...)"
   ]
  }
 ],
 "metadata": {
  "interpreter": {
   "hash": "24bcea09f354fb05be87a29c955bd93955aa8bc9d90c110f842af50a9b6fe914"
  },
  "kernelspec": {
   "display_name": "Python 3.9.5 64-bit ('base': conda)",
   "language": "python",
   "name": "python3"
  },
  "language_info": {
   "codemirror_mode": {
    "name": "ipython",
    "version": 3
   },
   "file_extension": ".py",
   "mimetype": "text/x-python",
   "name": "python",
   "nbconvert_exporter": "python",
   "pygments_lexer": "ipython3",
   "version": "3.9.5"
  },
  "orig_nbformat": 4
 },
 "nbformat": 4,
 "nbformat_minor": 2
}
